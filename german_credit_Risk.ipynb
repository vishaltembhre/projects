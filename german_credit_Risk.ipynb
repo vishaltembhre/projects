{
  "nbformat": 4,
  "nbformat_minor": 0,
  "metadata": {
    "colab": {
      "name": "german_credit_Risk.ipynb",
      "provenance": [],
      "collapsed_sections": [],
      "toc_visible": true,
      "mount_file_id": "1eH2RC8mETYrZhcedf_YybM5W1nGfpBqW",
      "authorship_tag": "ABX9TyORll6j+xXAoX7HodY0BKjO",
      "include_colab_link": true
    },
    "kernelspec": {
      "name": "python3",
      "display_name": "Python 3"
    },
    "language_info": {
      "name": "python"
    }
  },
  "cells": [
    {
      "cell_type": "markdown",
      "metadata": {
        "id": "view-in-github",
        "colab_type": "text"
      },
      "source": [
        "<a href=\"https://colab.research.google.com/github/vishaltembhre/projects/blob/main/german_credit_Risk.ipynb\" target=\"_parent\"><img src=\"https://colab.research.google.com/assets/colab-badge.svg\" alt=\"Open In Colab\"/></a>"
      ]
    },
    {
      "cell_type": "markdown",
      "metadata": {
        "id": "pBheHfls2Jml"
      },
      "source": [
        "#Importing the libraries\n",
        "\n",
        "\n",
        " \n",
        "\n"
      ]
    },
    {
      "cell_type": "code",
      "metadata": {
        "id": "QLJMqt4uxt71"
      },
      "source": [
        "\n",
        "import numpy as np\n",
        "import pandas as pd\n",
        "import tensorflow as tf\n"
      ],
      "execution_count": 1,
      "outputs": []
    },
    {
      "cell_type": "markdown",
      "metadata": {
        "id": "YCt2Zvnu2B5X"
      },
      "source": [
        "#Importing the dataset"
      ]
    },
    {
      "cell_type": "code",
      "metadata": {
        "id": "kAmkv1Qjx_d6"
      },
      "source": [
        "\n",
        "dataset=pd.read_csv('german_credit_data.csv')\n",
        "dataset[:] = dataset[:].fillna('nil')\n",
        "dataset['Risk'] = dataset['Risk'].replace(['good'],1)\n",
        "dataset['Risk'] = dataset['Risk'].replace(['bad'],0)\n",
        "X=dataset.iloc[:,1:-1].values\n",
        "Y=dataset.iloc[:,-1].values"
      ],
      "execution_count": 5,
      "outputs": []
    },
    {
      "cell_type": "markdown",
      "metadata": {
        "id": "1bZFBdU42cg4"
      },
      "source": [
        "#Encoding categorical data"
      ]
    },
    {
      "cell_type": "code",
      "metadata": {
        "id": "br9kB2mFx_tI"
      },
      "source": [
        "\n",
        "from sklearn.preprocessing import LabelEncoder\n",
        "le=LabelEncoder()\n",
        "X[:,1]=le.fit_transform(X[:,1])\n",
        "X[:,3]=le.fit_transform(X[:,3])\n",
        "X[:,4]=le.fit_transform(X[:,4])\n",
        "X[:,5]=le.fit_transform(X[:,5])\n",
        "X[:,8]=le.fit_transform(X[:,8])\n",
        "print(X)\n",
        "print(Y)"
      ],
      "execution_count": null,
      "outputs": []
    },
    {
      "cell_type": "markdown",
      "metadata": {
        "id": "oIhr1iz22jfj"
      },
      "source": [
        "#Splitting the dataset into the Training set and Test "
      ]
    },
    {
      "cell_type": "code",
      "metadata": {
        "id": "a1BIr7aWx_zQ"
      },
      "source": [
        "\n",
        "from sklearn.model_selection import train_test_split as tts\n",
        "X_train,X_test, Y_train, Y_test = tts(X, Y, test_size=0.2, random_state=0)"
      ],
      "execution_count": 7,
      "outputs": []
    },
    {
      "cell_type": "markdown",
      "metadata": {
        "id": "77UnABoP2lW5"
      },
      "source": [
        "#Feature Scaling"
      ]
    },
    {
      "cell_type": "code",
      "metadata": {
        "id": "FDewRc01x_8Q"
      },
      "source": [
        "\n",
        "from sklearn.preprocessing import StandardScaler\n",
        "sc=StandardScaler()\n",
        "X_train=sc.fit_transform(X_train)\n",
        "X_test=sc.transform(X_test)"
      ],
      "execution_count": 8,
      "outputs": []
    },
    {
      "cell_type": "markdown",
      "metadata": {
        "id": "AfslZEGF2nHC"
      },
      "source": [
        "#Building the ANN\n"
      ]
    },
    {
      "cell_type": "code",
      "metadata": {
        "id": "i09rMmuOyK9r"
      },
      "source": [
        "\n",
        "ann=tf.keras.models.Sequential()\n",
        "ann.add(tf.keras.layers.Dense(units='6', activation='relu'))\n",
        "ann.add(tf.keras.layers.Dense(units='4', activation='relu'))\n",
        "ann.add(tf.keras.layers.Dense(units='1', activation='sigmoid'))"
      ],
      "execution_count": 9,
      "outputs": []
    },
    {
      "cell_type": "markdown",
      "metadata": {
        "id": "ds93GXBj2pP7"
      },
      "source": [
        "#Training the ANN"
      ]
    },
    {
      "cell_type": "code",
      "metadata": {
        "id": "fyQJs0IHyLFo"
      },
      "source": [
        "\n",
        "ann.compile(optimizer='adam', loss='binary_crossentropy', metrics=['accuracy'])\n",
        "ann.fit(X_train,Y_train, batch_size=25, epochs=100)\n"
      ],
      "execution_count": null,
      "outputs": []
    },
    {
      "cell_type": "markdown",
      "metadata": {
        "id": "moYGA7052t3e"
      },
      "source": [
        "# Predicting the Test set results"
      ]
    },
    {
      "cell_type": "code",
      "metadata": {
        "id": "YvGWDTrGyPF4"
      },
      "source": [
        "\n",
        "Y_pred=ann.predict(X_test)\n",
        "Y_pred=(Y_pred>0.5)\n",
        "print(np.concatenate((Y_pred.reshape(len(Y_pred),1), Y_test.reshape(len(Y_test),1)),1))"
      ],
      "execution_count": null,
      "outputs": []
    },
    {
      "cell_type": "markdown",
      "metadata": {
        "id": "nfcQJpeH2z6-"
      },
      "source": [
        "# Confusion Matrix and Accuracy Score"
      ]
    },
    {
      "cell_type": "code",
      "metadata": {
        "id": "Q6mcgMPFyX6U"
      },
      "source": [
        "\n",
        "from sklearn.metrics import confusion_matrix, accuracy_score\n",
        "print('Confusion Matrix:\\n',confusion_matrix(Y_test,Y_pred))\n",
        "print('Accuracy Percentage:',accuracy_score(Y_test, Y_pred)*100,'%')"
      ],
      "execution_count": null,
      "outputs": []
    }
  ]
}